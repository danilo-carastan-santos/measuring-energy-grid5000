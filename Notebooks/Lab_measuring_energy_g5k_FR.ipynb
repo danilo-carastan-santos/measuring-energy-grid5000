{
 "cells": [
  {
   "cell_type": "markdown",
   "metadata": {},
   "source": [
    "# TP Mésurer la consommation énergétique d'un ressource de calcul\n",
    "Auteur : Danilo Carastan dos Santos et Mathilde Jay    \n",
    "Date : 02-10-2023\n",
    "\n",
    "### Objectifs\n",
    "- Utiliser des outils de monitoring d’énergie\n",
    "- Visualiser quels composants sont inclus dans les outils de mésure\n",
    "- Étudier l’impact du nombre de ressources dans la consommation énergétique\n",
    "\n",
    "### Préambule\n",
    "Tous les outils de mesure d'énergie nécessitent soit des droits de superutilisateur sur la machine, soit du matériel supplémentaire (wattmètre). Les fournisseurs de cloud public standard (AWS, Google Cloud, etc.) ne vous donnent pas accès à de tels outils. Néanmoins, le contenu présenté dans ce TP devrait être utile lors de (i) la phase de développement, où l'application s'exécute sur un ordinateur local, ou (ii) dans un cloud privé, où un contrôle plus approfondi du système/matériel est plus possible."
   ]
  },
  {
   "cell_type": "markdown",
   "metadata": {},
   "source": [
    "## Partie 0 : Prendre en main Grid'5000\n",
    "### Description de la plateforme\n",
    "Grid’5000 est un banc de test (\"testbed\" en anglais). Il s’agit d’une plate-forme expérimentale informatique\n",
    "qui permet de réaliser des tests rigoureux sur des outils de calcul numérique haute performance, notamment en\n",
    "calcul parallèle et distribué.   \n",
    "Grid’5000 s’organise de la manière suivante :\n",
    "- 8 sites en France\n",
    "- 800 noeuds localisés à Grenoble (92), Lille (39), Luxembourg (16), Lyon (132), Nancy (189), Nantes (70),\n",
    "Rennes (173), Sophia (44)\n",
    "- environ 15000 coeurs au total\n",
    "\n",
    "Vous pourrez accéder à toutes les caractéristiques techniques du matériel ici : https://www.grid5000.fr/w/Hardware.       \n",
    "L'utilisation de la plateforme est soumis à des régles simples de partages, qui sont détaillées ici : https://www.grid5000.fr/w/Grid'5000:UsagePolicy.    \n",
    "Les réservations des ressources passe par OAR qui est un utilitaire développé par Inria et utilisé pour le calcul haute performance. Les jobs sont définis par un JOB_ID.   "
   ]
  },
  {
   "cell_type": "markdown",
   "metadata": {},
   "source": [
    "### Création du compte\n",
    "Vous avez dû recevoir un email dans le semaine avec les informations nécessaires pour accéder à la plateforme. Il y a deux étapes à faire : Ouvrir une URL et ajouter un mot de passe et une clef ssh.\n",
    "\n",
    "Pour générez une clef ssh :   \n",
    "`ssh-keygen -t rsa`   \n",
    "qui crée deux fichiers dans le dossier caché `./ssh`. id_rsa est la clef privée (à garder secrète)\n",
    "et id_rsa.pub la clef publique que vous transmettrez à Grid’5000.\n",
    "\n",
    "Ces étapes sont détaillées ici : https://www.grid5000.fr/w/Tutorial_or_Teaching_Labs_Trainee_HowTo."
   ]
  },
  {
   "cell_type": "markdown",
   "metadata": {},
   "source": [
    "### Accéder à la plateforme\n",
    "\n",
    "Pour ce TP, on vous propose d'utiliser l'interface Jupyter de Grid'5000, ce qui va vous permettre de visualiser l'évolution de l'énergie plus facilement : https://intranet.grid5000.fr/notebooks/. Suivez les étapes suivantes :\n",
    "- Créer un nouveau serveur\n",
    "- Sélectionner le site de Lyon\n",
    "- Cliquer sur \"reserved node\"\n",
    "- Container ID : `CONTAINER_ID`\n",
    "- Walltime : 1:25\n",
    "- Cliquer sur start\n",
    "\n",
    "`CONTAINER_ID` est un chiffre que nous vous donnerons lors du début du TP\n",
    "\n",
    "![Alt text](../Figures/g5k_create_jupyter_server.png)\n"
   ]
  },
  {
   "cell_type": "markdown",
   "metadata": {},
   "source": [
    "### Télécharger le contenu du TP\n",
    "Dans l'interface d'accueil de JupyterLab, ouvrez un nouveau terminal\n",
    "\n",
    "![Alt text](../Figures/jupyterlab_terminal_button.png)\n",
    "\n",
    "Puis, lancez la commande suivante \n",
    "\n",
    "```\n",
    "git clone https://github.com/danilo-carastan-santos/measuring-energy-grid5000.git\n",
    "```\n",
    "\n",
    "Et ouvrez le Jupyter Notebook de ce TP (ce fichier, `./Notebooks/Lab_measuring_energy_g5k_FR.ipynb`)\n"
   ]
  },
  {
   "cell_type": "markdown",
   "metadata": {},
   "source": [
    "### Créer l'environnement vituel\n",
    "\n",
    "Dans ce même terminal lancez les commandes suivantes"
   ]
  },
  {
   "cell_type": "markdown",
   "metadata": {},
   "source": [
    "```\n",
    "python -m venv venv/\n",
    "source venv/bin/activate\n",
    "pip install ipykernel\n",
    "./venv/bin/python -m ipykernel install --user --name TP_conso --display-name \"Python (TP_conso)\"\n",
    "pip install pandas matplotlib requests numpy seaborn\n",
    "```"
   ]
  },
  {
   "cell_type": "markdown",
   "metadata": {},
   "source": [
    "### Ouvrir le notebook du TP\n",
    "\n",
    "Vous pouvez ouvrir les notebooks un outilisant le navigateur de JupyterLab (côté gauche de l'interface).\n",
    "\n",
    "Ouvrez le notebook, et selectionnez le kernel que vous venez de créer (`TP_Conso`). \n",
    "\n",
    "![Alt text](../Figures/change_ipykernel_1.png)\n",
    "![Alt text](../Figures/change_ipykernel_2.png)"
   ]
  },
  {
   "cell_type": "markdown",
   "metadata": {},
   "source": [
    "## Partie 1 : Comparer plusieurs méthodes de mésure\n",
    "\n",
    "Dans cette partie, vous allez comparer trois méthodes de mésure énergétique: (i) par TDP, (ii) par logiciel (perf/RAPL) et (iii) par wattmètre phisique."
   ]
  },
  {
   "cell_type": "markdown",
   "metadata": {},
   "source": [
    "### Méthode par TDP (Thermal Design Power)\n",
    "\n",
    "Pour cette approche, il suffit de connaître le TDP du processeur utilisé et le temps d'éxecution de l'application. \n",
    "\n",
    "Pour le premier, vous pouvez obtenir d'informations sur le processeur avec la commande "
   ]
  },
  {
   "cell_type": "markdown",
   "metadata": {},
   "source": [
    "```\n",
    "cat /proc/cpuinfo\n",
    "```"
   ]
  },
  {
   "cell_type": "markdown",
   "metadata": {},
   "source": [
    "**Question 1:** Pourquoi la commande dessus semble afficher plusieurs fois la même information?"
   ]
  },
  {
   "cell_type": "markdown",
   "metadata": {},
   "source": [
    "*Double-cliquez ici pour rédiger votre réponse.*"
   ]
  },
  {
   "cell_type": "markdown",
   "metadata": {},
   "source": [
    "**Question 2:** En cherchant sur Internet, quel est le TDP du processeur utilisé?"
   ]
  },
  {
   "cell_type": "markdown",
   "metadata": {},
   "source": [
    "*Double-cliquez ici pour rédiger votre réponse.*"
   ]
  },
  {
   "cell_type": "markdown",
   "metadata": {},
   "source": [
    "### Wattmètre physique de Grid'5000\n",
    "Les machines nova sont monitorées en permanance par un wattmètre physique.     \n",
    "Les données du wattmètre sont collectées et exposées par Kwollect. Kwollect est le service de monitoring\n",
    "disponible dans Grid’5000. Il collecte et met à disposition les métriques environnementales et de performance\n",
    "des nœuds. Vous pouvez trouver plus de détails sur le monitoring de Grid’5000 avec Kollect ici : https://www.grid5000.fr/w/Monitoring_Using_Kwollect.\n",
    "Vous pouvez visualiser les métriques collectées par Kwollect de deux manières principales : via les tableaux de\n",
    "bord Grafana et en consultant directement l’API Kwollect.\n",
    "\n",
    "\n",
    "*Grafana*    \n",
    "Grid’5000 met a disposition les tableaux de bord Grafana afin de visualiser les métriques disponibles dans\n",
    "Kwollect pour l’ensemble des noeuds. Vous pouvez consulter les tableau de bord du site Lyon ici : https://api.grid5000.fr/stable/sites/lyon/metrics/dashboard/d/kwollect/kwollect-metrics?var-device_id=nova-9&var-metric_id=wattmetre_power_watt&orgId=1. Pour visualiser\n",
    "les données des wattmètres physiques vous devez sélectionner le noeud dans l’onglet device et la métrique\n",
    "wattmetre_power_watt.\n",
    "\n",
    "\n",
    "*API*    \n",
    "Kwollect met a disposition l’ensemble des métriques via un API web. Vous pouvez récupérer les données de\n",
    "consommation d’un noeud directement depuis l’API.      \n",
    "https://api.grid5000.fr/stable/sites/lyon/metrics?nodes=nova-1&metrics=wattmetre_power_watt&start_time=2022-09-21T12:00:00&end_time=2022-09-21T12:10:00    \n",
    "Ouvrez ce lien avec votre navigateur web. En suivant ce lien, vous récupérez les données\n",
    "renvoyées par le wattmètre physique installé sur le nœud nova-1 à Lyon pour la période de\n",
    "12h00 à 12h10 le 21 septembre 2022. \n",
    "\n",
    "Pour ce TP, un script a été écrit pour récupérer les valeurs d'énergie entre deux timestamps donnés. Le code se trouve dans le fichier `utils.py` et en particulier dans la fonction `retrieve_power()` de l'objet `Wattmeter`. Les autres fonctions traitent les données pour pouvoir récupérer directement un dataframe."
   ]
  },
  {
   "cell_type": "markdown",
   "metadata": {},
   "source": [
    "**Question 3:** À quelle fréquence Kwollect renvoie-t-il la métrique wattmetre_power_watt ?"
   ]
  },
  {
   "cell_type": "markdown",
   "metadata": {},
   "source": [
    "*Double-cliquez ici pour rédiger votre réponse.*"
   ]
  },
  {
   "cell_type": "markdown",
   "metadata": {},
   "source": [
    "### Wattmètre logiciel (RAPL/Perf)\n",
    "Pour ce TP, vous allez utiliser `perf` de la manière suivante : \n",
    "\n",
    "`sudo perf stat -A -a -e 'power/energy-ram/' -e 'power/energy-pkg/' -o FILE -x \";\" -I INTERVAL_TIME_MS`   \n",
    "\n",
    "Par exemple :  \n",
    "\n",
    "`sudo perf stat -A -a -e 'power/energy-ram/' -e 'power/energy-pkg/' -o /tmp/result_ep.csv -x \";\" -I 100`  \n",
    "\n",
    "L'outil `perf` permet de surveiller plusieurs événements de performance de la machine. Vous pouvez répertorier ces événements en utilisant la commande `perf list`. Pour ce TP, nous nous intéressons à deux événements, `power/energy-ram/` et `power/energy-pkg/`, qui contiennent des informations fournies par l'interface RAPL. `power/energy-ram/` surveille la consommation d'énergie de la mémoire, et `power/energy-pkg/` surveille la consommation d'énergie du socket CPU.\n",
    "\n",
    "Pour une utilisation basique, la commande est à lancer *en parallèle dans le terminal* avant chaque execution, et à interrompre après la fin de chaque execution. Attendez quelques secondes avant et après pour être sûr de visualiser toute l'execution. L'énergie est monitorée en temps réel et les résultats sont enregistrés dans un fichier CSV (FILE) quand vous interrompez la commande. Veillez à changer le nom du fichier selon le nom de l'exercice pour pouvoir tout garder en mémoire."
   ]
  },
  {
   "cell_type": "markdown",
   "metadata": {},
   "source": [
    "**Question 4:** À quoi servent les paramètres `-A` et `-a` de la commande `perf stat`?\n",
    "Indice: Pensez a lancer la commande `perf stat --help`"
   ]
  },
  {
   "cell_type": "markdown",
   "metadata": {},
   "source": [
    "*Double-cliquez ici pour rédiger votre réponse.*"
   ]
  },
  {
   "cell_type": "markdown",
   "metadata": {},
   "source": [
    "### Lancer les mésures\n",
    "\n",
    "Lancez chaque célule ci-dessous.\n",
    "\n",
    "**À noter:** Nous avons besoin de droits superutilizateur (i.e., `sudo`) pour collecter les données Perf/RAPL.\n",
    "Cela est dû à un risque de sécurité: https://www.intel.com/content/www/us/en/security-center/advisory/intel-sa-00389.html\n",
    "Grid5000 nous donne de droits superutilizateur par la commande `sudo-g5k`"
   ]
  },
  {
   "cell_type": "code",
   "execution_count": null,
   "metadata": {
    "vscode": {
     "languageId": "plaintext"
    }
   },
   "outputs": [],
   "source": [
    "!hostname"
   ]
  },
  {
   "cell_type": "markdown",
   "metadata": {},
   "source": [
    "Si vous trouvez cet erreur lors de l'exécution de la commande dessus\n",
    "\n",
    "```\n",
    "/var/lib/oar/.batch_job_bashrc: line 5: /home/username/.bashrc: No such file or directory\n",
    "nova-XX.lyon.grid5000.fr\n",
    "```\n",
    "\n",
    "Il faut juste lancer la commande `touch .bashrc` dans le terminal."
   ]
  },
  {
   "cell_type": "code",
   "execution_count": null,
   "metadata": {},
   "outputs": [],
   "source": [
    "import os\n",
    "import socket\n",
    "\n",
    "NOEUD = socket.gethostname().rstrip(\".lyon.grid5000.fr\")\n",
    "HOME_DIR = os.getenv('HOME')\n",
    "\n",
    "REPOSITORY_DIR = HOME_DIR + \"/\"\n",
    "TP_DIR = REPOSITORY_DIR + \"TP_conso/\"\n",
    "PERF_RESULTS = TP_DIR + \"perf_results/\"\n",
    "\n",
    "!mkdir $TP_DIR\n",
    "!mkdir $PERF_RESULTS\n",
    "!sudo-g5k\n",
    "results = {}"
   ]
  },
  {
   "cell_type": "code",
   "execution_count": null,
   "metadata": {},
   "outputs": [],
   "source": [
    "import datetime\n",
    "import pandas as pd\n",
    "import matplotlib.pyplot as plt\n",
    "import random\n",
    "import sys\n",
    "import time\n",
    "debut_tp = time.time()\n",
    "sys.path.append(REPOSITORY_DIR)\n",
    "\n",
    "#TODO: for the future, improve packaging\n",
    "from utils import get_perf_df, qsort, insertion_sort, Wattmeter, get_data, plot_timeseries"
   ]
  },
  {
   "cell_type": "markdown",
   "metadata": {},
   "source": [
    "## Test de mésure avec un stress de CPU\n",
    "\n",
    "Pour commencer, lançons un stress sur le CPU. Vous pouvez faire varier le nombre de workers avec l'argument `-c`.    \n",
    "\n",
    "Pour éviter d'utiliser la commande `perf stat` en parallèle dans un terminal (usage basique), nous allons utiliser la librarie Python `subprocess` qui permet lancer des commandes depuis un code Python"
   ]
  },
  {
   "cell_type": "code",
   "execution_count": null,
   "metadata": {},
   "outputs": [],
   "source": [
    "import subprocess\n",
    "import os\n",
    "\n",
    "NB_CPUS = 1\n",
    "PROC_TIME_SECONDS = 10\n",
    "SLEEP_TIME_SECONDS = 1\n",
    "\n",
    "PERF_RESULT_FILENAME = \"CPU.csv\"\n",
    "PERF_RESULT_CSV_FILEPATH = PERF_RESULTS + PERF_RESULT_FILENAME\n",
    "\n",
    "perf_command = [\"sudo\",\"perf\",\"stat\",\n",
    "                \"-A\",\"-a\",\n",
    "                \"-e\",\"'power/energy-ram/'\",\n",
    "                \"-e\",\"'power/energy-pkg/'\",\n",
    "                \"-x\",\";\",\n",
    "                \"-I\", \"100\"]\n",
    "\n",
    "stress_command = [\"stress\",\"-c\",str(NB_CPUS),\"-t\",str(PROC_TIME_SECONDS)]\n",
    "\n",
    "with open(PERF_RESULT_CSV_FILEPATH, mode=\"w\") as output_file:\n",
    "\n",
    "    perf_start = time.time()\n",
    "    ## Lancer perf stat et ne pas attendre sa fin\n",
    "    perf_pid = subprocess.Popen(perf_command, stdout=output_file, stderr=output_file).pid\n",
    "    \n",
    "    ## Attendre un peu pour bien monitorer la commande stress\n",
    "    time.sleep(SLEEP_TIME_SECONDS)    \n",
    "\n",
    "    stress_start = time.time()\n",
    "    ## Lancer la commande stress et attendre sa fin\n",
    "    subprocess.run(stress_command)\n",
    "    stress_end = time.time()\n",
    "\n",
    "    ## Attendre un peu pour bien monitorer la commande stress\n",
    "    time.sleep(SLEEP_TIME_SECONDS)\n",
    "\n",
    "    ## Terminer la commande perf stat en envoyant SIGINT (-2)\n",
    "    ## Équivalent à Ctrl+c\n",
    "    subprocess.run([\"kill\", \"-2\", str(perf_pid)])\n",
    "    print(\"Done\")\n"
   ]
  },
  {
   "cell_type": "markdown",
   "metadata": {},
   "source": [
    "### Collecte et sauvegarde de résultats"
   ]
  },
  {
   "cell_type": "code",
   "execution_count": null,
   "metadata": {},
   "outputs": [],
   "source": [
    "name=PERF_RESULT_FILENAME.rstrip(\".csv\")\n",
    "results[name] = {}\n",
    "results[name][\"stress_start\"]=stress_start\n",
    "results[name][\"stress_end\"]=stress_end\n",
    "results[name][\"perf_start\"]=perf_start\n",
    "\n",
    "perf_energy_joules, perf_df, watt, watt_df = get_data(name, results, NOEUD)\n",
    "perf_df_plot = perf_df[\n",
    "        (perf_df[\"timestamp\"]>results[name][\"stress_start\"]-5)&(perf_df[\"timestamp\"]<results[name][\"stress_end\"]+5)]\n",
    "\n",
    "RESULT_COLS = [\"nb_cpus\", \"tool\", \"energy_joule\"]\n",
    "result = [{\"nb_cpus\": NB_CPUS,\n",
    "          \"tool\": \"perf\",\n",
    "          \"energy_joule\": perf_energy_joules},\n",
    "          {\"nb_cpus\": NB_CPUS,\n",
    "          \"tool\": \"wattmetre\",\n",
    "          \"energy_joule\": watt.results['wattmetre_power_watt'][\"energy_joule\"]}\n",
    "         ]\n",
    "\n",
    "results[name][\"perf_energy_joules\"]=perf_energy_joules\n",
    "results[name][\"wattmetre_energy_joules\"]=watt.results['wattmetre_power_watt'][\"energy_joule\"]\n",
    "results[name][\"diff_energy_joules\"]=watt.results['wattmetre_power_watt'][\"energy_joule\"]- perf_energy_joules\n",
    "\n",
    "df_result = pd.DataFrame(result)\n",
    "print(df_result)\n",
    "\n",
    "RESULT_FILENAME = \"stress-nb_cpus=\"+str(NB_CPUS)+\"-tstamp=\"+str(int(stress_start))+\".csv\"\n",
    "df_result.to_csv(PERF_RESULTS+RESULT_FILENAME, index=False)\n",
    "print(\"Résultats sauvegardés dans le fichier\", PERF_RESULTS+RESULT_FILENAME)"
   ]
  },
  {
   "cell_type": "markdown",
   "metadata": {},
   "source": [
    "**Question 5:** Utilisez la formule TDP pour estimer la consommation énergétique de la commande `stress`. Utiliser la valeur de `PROC_TIME_SECONDS` pour le temps d'exécution. Que remarquez-vous par rapport à l'estimation TDP et aux mésures de `perf` et `wattmetre` ? "
   ]
  },
  {
   "cell_type": "markdown",
   "metadata": {},
   "source": [
    "*Double-cliquez ici pour rédiger votre réponse.*"
   ]
  },
  {
   "cell_type": "markdown",
   "metadata": {},
   "source": [
    "### Vlisualisation des profils énergétiques"
   ]
  },
  {
   "cell_type": "code",
   "execution_count": null,
   "metadata": {},
   "outputs": [],
   "source": [
    "fig, ax = plt.subplots(figsize=(10,5))\n",
    "ax = plot_timeseries(ax, perf_df_plot, watt_df, name)"
   ]
  },
  {
   "cell_type": "markdown",
   "metadata": {},
   "source": [
    "**Question 6:** Quelles sont les différences entre le wattmètre physique et le wattmètre logiciel ?"
   ]
  },
  {
   "cell_type": "markdown",
   "metadata": {},
   "source": [
    "*Double-cliquez ici pour rédiger votre réponse.*"
   ]
  },
  {
   "cell_type": "markdown",
   "metadata": {},
   "source": [
    "### Consommation énergétique en fonction du nombre de CPUs\n",
    "\n",
    "**Exercice 1:** Relancez les parties \"Test de mésure avec un stress de CPU\" et \"Collecte et sauvegarde de résultats\" plusieurs fois, chaque fois en modifiant la variable `NB_CPUS` par `1`, `2`, `4`, `8`, `16`, `32` (cinq relances au total). Utilisez les fichiers CSV sauvegardés (exemple `/home/username/TP_conso/perf_results/stress-nb_cpus=XX-tstamp=YYYYYYY.csv` ou `XX` est le nombre de CPUs) pour faire une figure (c.f., méthode `seaborn.lineplot()`) qui illustre l'évolution de la consommation énergétique totale en fonction du nombre de CPUs par chaque métode de mésure (sauf TDP)."
   ]
  },
  {
   "cell_type": "code",
   "execution_count": null,
   "metadata": {},
   "outputs": [],
   "source": [
    "## double-cliquez ici pour coder"
   ]
  },
  {
   "cell_type": "markdown",
   "metadata": {},
   "source": [
    "**Question 7:** Que remarquez-vous par rapport à votre figure ?"
   ]
  },
  {
   "cell_type": "markdown",
   "metadata": {},
   "source": [
    "*Double-cliquez ici pour rédiger votre réponse.*"
   ]
  },
  {
   "cell_type": "markdown",
   "metadata": {},
   "source": [
    "## Partie 2: Ouverture vers les émissions carbones\n",
    "Utilisez la celulle suivante pour mesurer l'énergie que le noeud que vous utilisez a consommé durant le TP. \n",
    "**À combien de CO2 équivalent cela corresponds ? À combien d'euros ? Vous trouverez sur internet des valeurs moyennes de coût et d'intensité carbone de l'electricité en France. Extrapoler à une journée, un mois, un année, ...**\n",
    "Le site https://app.electricitymaps.com/zone/FR?wind=true donne l'évolution de l'intensité carbone par pays en live. **Comment est-ce que l'intensité carbone varie en France ou dans un autre pays ? Comment est ce que cela impacte les émissions carbone de ce TP ?** "
   ]
  },
  {
   "cell_type": "code",
   "execution_count": null,
   "metadata": {},
   "outputs": [],
   "source": [
    "fin_tp = time.time()\n",
    "get_data(name, results, NOEUD)\n",
    "print(\"Done\")"
   ]
  },
  {
   "cell_type": "code",
   "execution_count": null,
   "metadata": {},
   "outputs": [],
   "source": [
    "watt = Wattmeter(\n",
    "        NOEUD, \n",
    "        \"lyon\", \n",
    "        debut_tp, \n",
    "        fin_tp, \n",
    "        metrics=[\"wattmetre_power_watt\"])\n",
    "print(\"Énergie consommée pendant tous le TP :\", watt.results['wattmetre_power_watt'][\"energy_joule\"], \"joules\")"
   ]
  },
  {
   "cell_type": "markdown",
   "metadata": {},
   "source": [
    "*Double-cliquez ici pour rédiger votre réponse.*"
   ]
  }
 ],
 "metadata": {
  "kernelspec": {
   "display_name": "Python (TP_conso)",
   "language": "python",
   "name": "tp_conso"
  },
  "language_info": {
   "codemirror_mode": {
    "name": "ipython",
    "version": 3
   },
   "file_extension": ".py",
   "mimetype": "text/x-python",
   "name": "python",
   "nbconvert_exporter": "python",
   "pygments_lexer": "ipython3",
   "version": "3.9.2"
  }
 },
 "nbformat": 4,
 "nbformat_minor": 4
}
